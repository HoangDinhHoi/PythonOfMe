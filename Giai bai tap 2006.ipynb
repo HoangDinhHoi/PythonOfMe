{
 "cells": [
  {
   "cell_type": "code",
   "execution_count": 19,
   "metadata": {},
   "outputs": [
    {
     "name": "stdout",
     "output_type": "stream",
     "text": [
      "{'Author 1': 'Name: Zed, Email: zed@gmail.com, Gender: Male', 'Author 2': 'Name: Yasuo, Email: yasuo@gmail.com, Gender: Male'}\n"
     ]
    }
   ],
   "source": [
    "class Author():\n",
    "    def __init__(self, name, email, gender):\n",
    "        self.__name = name\n",
    "        self.__email = email\n",
    "        self.__gender = gender\n",
    "    \n",
    "    def getName(self):\n",
    "        return self.__name\n",
    "    def getEmail(self):\n",
    "        return self.__email\n",
    "    def getGender(self):\n",
    "        return 'Male' if self.__gender == 'm' else 'Female'\n",
    "    def setEmail(self, new_email):\n",
    "        self.__email = new_email\n",
    "    def __str__(self):\n",
    "        return \"Name: {}, Email: {}, Gender: {}\".format(self.__name, self.__email, 'Male' if self.__gender == 'm' else 'Female')\n",
    "    def __repr__(self):\n",
    "        return \"Name: {}, Email: {}, Gender: {}\".format(self.__name, self.__email, 'Male' if self.__gender == 'm' else 'Female')\n",
    "    \n",
    "\n",
    "class Book():\n",
    "    def __init__(self, name, price, author=[Author], qty=0):\n",
    "        self.__name = name\n",
    "        self.__price = price\n",
    "        self.__author = author\n",
    "        self.__qty = qty\n",
    "        \n",
    "    def getName(self):\n",
    "        return self.__name\n",
    "    def getPrice(self):\n",
    "        return self.__price\n",
    "    def getAuthors(self):\n",
    "        a = {}\n",
    "        b = 1\n",
    "        for i in self.__author:\n",
    "            a['Author '+str(b)] = str(i)\n",
    "            b+=1\n",
    "        return a\n",
    "    def getQty(self):\n",
    "        return self.__qty\n",
    "    def getAuthorNames(self):\n",
    "        a = []\n",
    "        for i in self.__author:\n",
    "            a.append(i.getName())\n",
    "        return a\n",
    "    def setPrice(self, new_price):\n",
    "        self.__price = new_price\n",
    "    def setQty(self, new_qty):\n",
    "        self.__qty = new_qty\n",
    "    def __str__(self):\n",
    "        return \"Name: {}, Price: {}, Quantity: {}, Authors: {}\".format(self.__name, self.__price, self.__qty, self.getAuthorNames())\n",
    "    def __repr__(self):\n",
    "        return \"Name: {}, Price: {}, Quantity: {}, Authors: {}\".format(self.__name, self.__price, self.__qty, self.__author)\n",
    "\n",
    "a1 = Author('Zed', 'zed@gmail.com', 'm')\n",
    "a2 = Author('Yasuo', 'yasuo@gmail.com', 'm')\n",
    "b1 = Book('Joe', 100000.0, [a1, a2], 1)\n",
    "print(b1.getAuthors())"
   ]
  },
  {
   "cell_type": "code",
   "execution_count": null,
   "metadata": {},
   "outputs": [],
   "source": []
  }
 ],
 "metadata": {
  "kernelspec": {
   "display_name": "Python 3",
   "language": "python",
   "name": "python3"
  },
  "language_info": {
   "codemirror_mode": {
    "name": "ipython",
    "version": 3
   },
   "file_extension": ".py",
   "mimetype": "text/x-python",
   "name": "python",
   "nbconvert_exporter": "python",
   "pygments_lexer": "ipython3",
   "version": "3.6.5"
  }
 },
 "nbformat": 4,
 "nbformat_minor": 2
}
