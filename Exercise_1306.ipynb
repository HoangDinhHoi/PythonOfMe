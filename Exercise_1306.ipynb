{
 "cells": [
  {
   "cell_type": "code",
   "execution_count": 1,
   "metadata": {},
   "outputs": [
    {
     "name": "stdout",
     "output_type": "stream",
     "text": [
      "mp3\n",
      "Time run : 0.000397796123925897\n"
     ]
    }
   ],
   "source": [
    "'''\n",
    "Cach 1: Su dung ham rfind('ki_tu_can_tim_trong_string'): tra ve phan tu can tim o vi tri cuoi cung trong chuoi, neu khong tim \n",
    "thay se tra ve -1\n",
    "'''\n",
    "import time\n",
    "start = time.clock()\n",
    "s = 'a.b.c.mp3'\n",
    "a = s.rfind('.')\n",
    "print(s[a+1:])\n",
    "end = time.clock()\n",
    "print('Time run : %s' %(end-start))\n"
   ]
  },
  {
   "cell_type": "code",
   "execution_count": 2,
   "metadata": {},
   "outputs": [
    {
     "name": "stdout",
     "output_type": "stream",
     "text": [
      "mp3\n",
      "Time run: 0.0005680357554567195\n"
     ]
    }
   ],
   "source": [
    "'''\n",
    "Cách 2: \n",
    "- Ép kiểu từ string sang list, đồng thời sử dụng hàm split để phân chia thành các phần tử được ngăn cách nhau bởi dấu phẩy.\n",
    "- Sau đó đơn giản ta chỉ cần in phần tử nằm cuối cùng ở trong list đó. \n",
    "'''\n",
    "import time \n",
    "start = time.clock()\n",
    "s = 'a.b.c.mp3'\n",
    "a = s.split('.')\n",
    "print(a[-1])\n",
    "end = time.clock()\n",
    "print('Time run: %s' %(end-start))"
   ]
  },
  {
   "cell_type": "code",
   "execution_count": null,
   "metadata": {},
   "outputs": [],
   "source": []
  }
 ],
 "metadata": {
  "kernelspec": {
   "display_name": "Python 3",
   "language": "python",
   "name": "python3"
  },
  "language_info": {
   "codemirror_mode": {
    "name": "ipython",
    "version": 3
   },
   "file_extension": ".py",
   "mimetype": "text/x-python",
   "name": "python",
   "nbconvert_exporter": "python",
   "pygments_lexer": "ipython3",
   "version": "3.6.5"
  }
 },
 "nbformat": 4,
 "nbformat_minor": 2
}
