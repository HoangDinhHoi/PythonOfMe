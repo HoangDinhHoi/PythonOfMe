{
 "cells": [
  {
   "cell_type": "code",
   "execution_count": 11,
   "metadata": {},
   "outputs": [
    {
     "name": "stdout",
     "output_type": "stream",
     "text": [
      "[Author(Zed,zed@gmail.com,m), Author(Jax,jax@gmail.com,m)]\n"
     ]
    }
   ],
   "source": [
    "class Author:\n",
    "    def __init__(self, name, email, gender):\n",
    "        self.__name = name; self.__email = email; self.__gender = gender\n",
    "\n",
    "    def getName(self):\n",
    "        return self.__name\n",
    "    def getEmail(self):\n",
    "        return self.__email\n",
    "    def setEmail(self, new_email):\n",
    "        self.__email = new_email\n",
    "    def getGender(self):\n",
    "        return \"Male\" if (self.__gender).lower() == 'm' else \"Female\"\n",
    "    def __str__(self):\n",
    "        return \"Author({},{},{})\".format(self.__name, self.__email, self.__gender)\n",
    "    def __repr__(self):\n",
    "        return \"Author({},{},{})\".format(self.__name, self.__email, self.__gender)\n",
    "\n",
    "class Book:\n",
    "    def __init__(self, name, price, authors = [], qty=0):\n",
    "        a = [x for x in authors if isinstance(x, Author)]\n",
    "        self.__name = name; self.__price = price; self.__authors = a; self.__qty = qty\n",
    "    def __str__(self):\n",
    "        return \"Book({},{},{},{})\".format(self.__name, self.__price, self.getAuthorNames(), self.__qty)\n",
    "    def __repr__(self):\n",
    "        return \"Book({},{},{},{})\".format(self.__name, self.__price, self.getAuthorNames(), self.__qty)\n",
    "    def getName(self):\n",
    "        return self.__name\n",
    "    def getPrice(self):\n",
    "        return self.__price\n",
    "    def getAuthors(self):\n",
    "        return self.__authors\n",
    "    def getQty(self):\n",
    "        return self.__qty\n",
    "    def getAuthorNames(self):\n",
    "        return ','.join([x.getName() for x in self.__authors])\n",
    "    def setPrice(self, new_price):\n",
    "        self.__price = new_price\n",
    "    def setQty(self, new_qty):\n",
    "        self.__qty = new_qty\n",
    "a1 = Author('Zed', 'zed@gmail.com', 'm')\n",
    "a2 = Author('Jax', 'jax@gmail.com', 'm')\n",
    "b1 = Book('Leblanc', 10000.0,[a1,a2], 2)\n",
    "b2 = Book('Lux', 15000.0,[a1,a2], 3)\n",
    "\n",
    "b3 = Book('Lucian', 20000.0, [a1,a2], 3)\n",
    "print(b3.getAuthors())\n"
   ]
  },
  {
   "cell_type": "code",
   "execution_count": null,
   "metadata": {},
   "outputs": [],
   "source": []
  }
 ],
 "metadata": {
  "kernelspec": {
   "display_name": "Python 3",
   "language": "python",
   "name": "python3"
  },
  "language_info": {
   "codemirror_mode": {
    "name": "ipython",
    "version": 3
   },
   "file_extension": ".py",
   "mimetype": "text/x-python",
   "name": "python",
   "nbconvert_exporter": "python",
   "pygments_lexer": "ipython3",
   "version": "3.6.5"
  }
 },
 "nbformat": 4,
 "nbformat_minor": 2
}
